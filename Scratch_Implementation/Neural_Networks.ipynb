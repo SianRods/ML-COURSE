{
 "cells": [
  {
   "cell_type": "code",
   "execution_count": 72,
   "metadata": {},
   "outputs": [],
   "source": [
    "# Implementing Neural Networks from Scratch \n",
    "# g(z)= 1 / 1 + exp(-z)\n",
    "# z = w.x + b\n",
    "# Gradient Decent Algorithms : \n",
    "# 1]  w = w - learning_rate*(dJ/dw)\n",
    "# 2] b = b - learning_rate*(dj/db)\n",
    "# J(y,y^) = 1/2m * sum (f(x)-y)^2\n",
    "\n",
    "# For sake of simplicity we will be generating some random weights first and then wil be building on the gradient descent algo\n",
    "\n",
    "import numpy as np \n",
    "\n",
    "\n",
    "def sigmoid(w,x,b):\n",
    "    z = np.dot(w,x)+b\n",
    "    return 1 / (np.exp(-z) + 1)"
   ]
  },
  {
   "cell_type": "code",
   "execution_count": 64,
   "metadata": {},
   "outputs": [],
   "source": [
    "\n",
    "def weight(input):\n",
    "    length=len(input)\n",
    "    w=np.random.randn(length)  #.reshape(-1,1)\n",
    "    b=np.random.randn(1)\n",
    "    return w,b\n"
   ]
  },
  {
   "cell_type": "code",
   "execution_count": 65,
   "metadata": {},
   "outputs": [],
   "source": [
    "def layer(units,input):\n",
    "    # Input from the previous layer or the feature vector\n",
    "    # Creating an Empty vector having the size same as that of number of units in the givern layer to store the output\n",
    "    output =[]\n",
    "    # label=label\n",
    "    for i in range(units):\n",
    "        a= sigmoid(weight(input)[0],input,weight(input)[1])\n",
    "        output.append(a)\n",
    "    return np.array(output)   #reshape(1,-1)"
   ]
  },
  {
   "cell_type": "code",
   "execution_count": 66,
   "metadata": {},
   "outputs": [],
   "source": [
    "# Joining all the layers together : \n",
    "def sequential(no_layers,units_list,feature_vector):\n",
    "    # combining all the layers together : \n",
    "    a=0\n",
    "    for i in range(no_layers):\n",
    "        if(i==0):\n",
    "            a=layer(units=units_list[i],input=feature_vector)\n",
    "        else:\n",
    "            a=layer(units=units_list[i],input=a)\n",
    "    return a\n",
    "\n"
   ]
  },
  {
   "cell_type": "code",
   "execution_count": 71,
   "metadata": {},
   "outputs": [
    {
     "data": {
      "text/plain": [
       "array([[0.30654997]])"
      ]
     },
     "execution_count": 71,
     "metadata": {},
     "output_type": "execute_result"
    }
   ],
   "source": [
    "\n",
    "feature_vector = np.random.rand(10)\n",
    "# feature_vector.shape\n",
    "\n",
    "\n",
    "sequential(no_layers=3,units_list=[3,2,1],feature_vector=feature_vector)\n",
    "# print(sample_input.shape)\n"
   ]
  }
 ],
 "metadata": {
  "kernelspec": {
   "display_name": "Python 3",
   "language": "python",
   "name": "python3"
  },
  "language_info": {
   "codemirror_mode": {
    "name": "ipython",
    "version": 3
   },
   "file_extension": ".py",
   "mimetype": "text/x-python",
   "name": "python",
   "nbconvert_exporter": "python",
   "pygments_lexer": "ipython3",
   "version": "3.12.4"
  }
 },
 "nbformat": 4,
 "nbformat_minor": 2
}
