{
 "cells": [
  {
   "cell_type": "markdown",
   "metadata": {},
   "source": [
    "# Practicing Implementation of Gradient Discent Algorithm for Linear Regression"
   ]
  },
  {
   "cell_type": "code",
   "execution_count": 1,
   "metadata": {},
   "outputs": [],
   "source": [
    "import numpy as np \n",
    "import matplotlib.pyplot as plt\n",
    "import seaborn as sns \n",
    "%matplotlib inline "
   ]
  },
  {
   "cell_type": "markdown",
   "metadata": {},
   "source": [
    "Let's use the same two data points as before - a house with 1000 square feet sold for \\\\$300,000 and a house with 2000 square feet sold for \\\\$500,000.\n",
    "\n",
    "| Size (1000 sqft)     | Price (1000s of dollars) |\n",
    "| ----------------| ------------------------ |\n",
    "| 1               | 300                      |\n",
    "| 2               | 500                      |"
   ]
  },
  {
   "cell_type": "code",
   "execution_count": 3,
   "metadata": {},
   "outputs": [],
   "source": [
    "X_train=np.array([1,2])  #size of houses in square-feet\n",
    "Y_train=np.array([300,500])"
   ]
  },
  {
   "cell_type": "code",
   "execution_count": 5,
   "metadata": {},
   "outputs": [],
   "source": [
    "# Defining the Prediction Function \n",
    "def compute_function(x,w,b):\n",
    "    f_wb=x*w+b\n",
    "    return f_wb\n"
   ]
  },
  {
   "cell_type": "code",
   "execution_count": 6,
   "metadata": {},
   "outputs": [],
   "source": [
    "# Defining the Cost-Function\n",
    "def cost_function(x,y):\n",
    "    # Initilising with the initial value of w and b \n",
    "    w_init=0\n",
    "    b_init=0\n",
    "    # Declaring the size of the Tuple \n",
    "    m=x.shape(0)\n",
    "    f_wb=np.zeros(m)\n",
    "    cost=0.0\n",
    "    for i in range(m):\n",
    "        f_wb[i]=compute_function(x[i],w_init,b_init)\n",
    "        temp=(f_wb[i]-y[i])**2\n",
    "        temp=temp/(2*m)\n",
    "        cost = cost+ temp\n",
    "    return cost\n"
   ]
  },
  {
   "cell_type": "code",
   "execution_count": 9,
   "metadata": {},
   "outputs": [],
   "source": [
    "#  Implementing the Gradient Descent Algorithm\n",
    "def gradient_descent(x,y,alpha):\n",
    "    # w=w-alphe*df_dw\n",
    "    # b=b-alphe*df_db\n",
    "    w_init=0\n",
    "    b_init=0\n",
    "    df_dw=0\n",
    "    df_db=0\n",
    "    # We want the floating point representation\n",
    "    m=x.shape[0]\n",
    "\n",
    "    for i in range(m):\n",
    "        df_dw_i=(((compute_function(x[i],w_init,b_init))-y[i])*x[i])/m\n",
    "        df_db_i=(((compute_function(x[i],w_init,b_init))-y[i]))/m\n",
    "        df_dw += df_dw_i\n",
    "        df_db += df_db_i\n",
    "\n",
    "    # Using the Standad Value of Epsilon For iterations \n",
    "    for i in range(1000):\n",
    "        temp_w=w_init- alpha*df_dw\n",
    "        temp_b=b_init- alpha*df_db\n",
    "        w_init=temp_w\n",
    "        b_init=temp_b\n",
    "\n",
    "    return w_init,b_init"
   ]
  },
  {
   "cell_type": "code",
   "execution_count": 10,
   "metadata": {},
   "outputs": [
    {
     "name": "stdout",
     "output_type": "stream",
     "text": [
      "(np.float64(65000.0), np.float64(40000.0))\n"
     ]
    }
   ],
   "source": [
    "print(gradient_descent(X_train,Y_train,0.1))"
   ]
  },
  {
   "cell_type": "code",
   "execution_count": null,
   "metadata": {},
   "outputs": [],
   "source": []
  }
 ],
 "metadata": {
  "kernelspec": {
   "display_name": "Python 3",
   "language": "python",
   "name": "python3"
  },
  "language_info": {
   "codemirror_mode": {
    "name": "ipython",
    "version": 3
   },
   "file_extension": ".py",
   "mimetype": "text/x-python",
   "name": "python",
   "nbconvert_exporter": "python",
   "pygments_lexer": "ipython3",
   "version": "3.12.4"
  }
 },
 "nbformat": 4,
 "nbformat_minor": 2
}
