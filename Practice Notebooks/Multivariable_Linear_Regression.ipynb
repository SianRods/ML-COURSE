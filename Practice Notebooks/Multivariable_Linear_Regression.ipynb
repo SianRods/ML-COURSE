{
 "cells": [
  {
   "cell_type": "markdown",
   "metadata": {},
   "source": [
    "# Implementing the Multivariable-Linear Regression"
   ]
  },
  {
   "cell_type": "code",
   "execution_count": 2,
   "metadata": {},
   "outputs": [],
   "source": [
    "import numpy as np\n",
    "import matplotlib.pyplot as ply\n",
    "import seaborn as sns "
   ]
  },
  {
   "cell_type": "markdown",
   "metadata": {},
   "source": [
    "<a name=\"toc_15456_2\"></a>\n",
    "\n",
    "You will use the motivating example of housing price prediction. The training dataset contains three examples with four features (size, bedrooms, floors and, age) shown in the table below.  Note that, unlike the earlier labs, size is in sqft rather than 1000 sqft. This causes an issue, which you will solve in the next lab!\n",
    "\n",
    "| Size (sqft) | Number of Bedrooms  | Number of floors | Age of  Home | Price (1000s dollars)  |   \n",
    "| ----------------| ------------------- |----------------- |--------------|-------------- |  \n",
    "| 2104            | 5                   | 1                | 45           | 460           |  \n",
    "| 1416            | 3                   | 2                | 40           | 232           |  \n",
    "| 852             | 2                   | 1                | 35           | 178           |  \n",
    "\n",
    "You will build a linear regression model using these values so you can then predict the price for other houses. For example, a house with 1200 sqft, 3 bedrooms, 1 floor, 40 years old.  \n",
    "\n",
    "Please run the following code cell to create your `X_train` and `y_train` variables."
   ]
  },
  {
   "cell_type": "code",
   "execution_count": 7,
   "metadata": {},
   "outputs": [
    {
     "name": "stdout",
     "output_type": "stream",
     "text": [
      "2\n",
      "(3, 4)\n"
     ]
    }
   ],
   "source": [
    "X_train=np.array([[2104,5,1,45],  # Training Set Number -1\n",
    "                 [1416,3,2,40], # Training set Number -2 \n",
    "                 [852,2,1,35]])  # Training set Number -3\n",
    " \n",
    "Y_train=np.array([460,232,178])\n",
    "#  We have to treat the Whole Operation Like Two-Dimensional Array i and j \n",
    "print(X_train[1,2]) # Operations of 2-Dimensional Arrays \n",
    "print(X_train.shape)"
   ]
  },
  {
   "cell_type": "code",
   "execution_count": 5,
   "metadata": {},
   "outputs": [],
   "source": [
    "# Defining Compute Function : -\n",
    "def compute_function(x,w,b):\n",
    "    # Here x and w are both vectors / nd arrays\n",
    "    f_wb=np.dot(x,w)+b\n",
    "    return f_wb"
   ]
  },
  {
   "cell_type": "code",
   "execution_count": 8,
   "metadata": {},
   "outputs": [],
   "source": [
    "# defining cost function\n",
    "def cost_function(x,y,w,b):\n",
    "    m=x.shape[0]\n",
    "    n=x.shape[1]\n",
    "    cost=0.0\n",
    "    # n --> No of Features\n",
    "    total_sum=0\n",
    "    for i in range(m):\n",
    "        for j in range(n):\n",
    "            temp=(compute_function(x[i][j],w[j],b)-y[i])**2\n",
    "            cost+=temp\n",
    "        total_sum+=cost\n",
    "    cost=(total_sum)/(2*m)\n",
    "\n",
    "    return cost"
   ]
  },
  {
   "cell_type": "code",
   "execution_count": null,
   "metadata": {},
   "outputs": [],
   "source": [
    "# defining the derivatives function\n",
    "def gradient(x,y,w,b):\n",
    "    # df_dw will be an array of size 'j'ArithmeticError\n",
    "    # df_db will be a single values \n",
    "    df_dw=0\n",
    "    df_db=0\n",
    "    m=x.shape[0]\n",
    "    n=x.shape[1]   # Number of features in the train-data\n",
    "\n",
    "    for i in range(m):\n",
    "        for j in range(n):\n",
    "            df_dw_temp=(compute_function(x[i][j],w[j],b)-y[i])*x[i]"
   ]
  }
 ],
 "metadata": {
  "kernelspec": {
   "display_name": "Python 3",
   "language": "python",
   "name": "python3"
  },
  "language_info": {
   "codemirror_mode": {
    "name": "ipython",
    "version": 3
   },
   "file_extension": ".py",
   "mimetype": "text/x-python",
   "name": "python",
   "nbconvert_exporter": "python",
   "pygments_lexer": "ipython3",
   "version": "3.12.4"
  }
 },
 "nbformat": 4,
 "nbformat_minor": 2
}
